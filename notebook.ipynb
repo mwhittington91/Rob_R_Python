{
 "cells": [
  {
   "cell_type": "code",
   "execution_count": 2,
   "id": "d99629c3",
   "metadata": {},
   "outputs": [],
   "source": [
    "import polars as pl\n",
    "import pandas as pd"
   ]
  },
  {
   "cell_type": "code",
   "execution_count": 3,
   "id": "7398697b",
   "metadata": {},
   "outputs": [],
   "source": [
    "def load_data(path:str) -> pl.DataFrame:\n",
    "    if path.endswith('.csv'):\n",
    "        return pl.read_csv(path)     \n",
    "    elif path.endswith('.dta'):\n",
    "        return pl.from_pandas(pd.read_stata(path))"
   ]
  },
  {
   "cell_type": "code",
   "execution_count": 4,
   "id": "c3c4f97c",
   "metadata": {},
   "outputs": [
    {
     "data": {
      "text/plain": [
       "['frn',\n",
       " 'provider_id',\n",
       " 'brand_name',\n",
       " 'location_id',\n",
       " 'technology',\n",
       " 'max_advertised_download_speed',\n",
       " 'max_advertised_upload_speed',\n",
       " 'low_latency',\n",
       " 'business_residential_code',\n",
       " 'state_usps',\n",
       " 'block_geoid',\n",
       " 'h3_res8_id']"
      ]
     },
     "execution_count": 4,
     "metadata": {},
     "output_type": "execute_result"
    }
   ],
   "source": [
    "stata_df = load_data('data/BDC Update 07.12.23 AL Dec 2022.dta')\n",
    "stata_df.columns"
   ]
  },
  {
   "cell_type": "code",
   "execution_count": 5,
   "id": "6a265613",
   "metadata": {},
   "outputs": [
    {
     "data": {
      "text/html": [
       "<div><style>\n",
       ".dataframe > thead > tr,\n",
       ".dataframe > tbody > tr {\n",
       "  text-align: right;\n",
       "  white-space: pre-wrap;\n",
       "}\n",
       "</style>\n",
       "<small>shape: (6_013_527, 12)</small><table border=\"1\" class=\"dataframe\"><thead><tr><th>frn</th><th>provider_id</th><th>brand_name</th><th>location_id</th><th>technology</th><th>max_advertised_download_speed</th><th>max_advertised_upload_speed</th><th>low_latency</th><th>business_residential_code</th><th>state_usps</th><th>block_geoid</th><th>h3_res8_id</th></tr><tr><td>i32</td><td>i32</td><td>str</td><td>i32</td><td>i8</td><td>i32</td><td>i32</td><td>i8</td><td>str</td><td>str</td><td>f64</td><td>str</td></tr></thead><tbody><tr><td>25646373</td><td>130235</td><td>&quot;Charter Communications Inc&quot;</td><td>1306575405</td><td>40</td><td>1000</td><td>35</td><td>1</td><td>&quot;R&quot;</td><td>&quot;AL&quot;</td><td>1.1170e13</td><td>&quot;8844e8a311fffff&quot;</td></tr><tr><td>6945950</td><td>130403</td><td>&quot;T-Mobile US&quot;</td><td>1315287308</td><td>71</td><td>25</td><td>3</td><td>1</td><td>&quot;X&quot;</td><td>&quot;AL&quot;</td><td>1.1030e13</td><td>&quot;8826492e55fffff&quot;</td></tr><tr><td>6945950</td><td>130403</td><td>&quot;T-Mobile US&quot;</td><td>1140064034</td><td>71</td><td>0</td><td>0</td><td>1</td><td>&quot;X&quot;</td><td>&quot;AL&quot;</td><td>1.0360e13</td><td>&quot;8844522e1dfffff&quot;</td></tr><tr><td>31304405</td><td>470022</td><td>&quot;Brightspeed&quot;</td><td>1059484222</td><td>10</td><td>0</td><td>0</td><td>1</td><td>&quot;X&quot;</td><td>&quot;AL&quot;</td><td>1.0450e13</td><td>&quot;8844e1726dfffff&quot;</td></tr><tr><td>4036778</td><td>130804</td><td>&quot;Mediacom Southeast LLC&quot;</td><td>1342199661</td><td>40</td><td>1000</td><td>50</td><td>1</td><td>&quot;X&quot;</td><td>&quot;AL&quot;</td><td>1.0970e13</td><td>&quot;8844500731fffff&quot;</td></tr><tr><td>&hellip;</td><td>&hellip;</td><td>&hellip;</td><td>&hellip;</td><td>&hellip;</td><td>&hellip;</td><td>&hellip;</td><td>&hellip;</td><td>&hellip;</td><td>&hellip;</td><td>&hellip;</td><td>&hellip;</td></tr><tr><td>1857952</td><td>130077</td><td>&quot;AT&amp;T Inc&quot;</td><td>1342128104</td><td>50</td><td>1000</td><td>1000</td><td>1</td><td>&quot;X&quot;</td><td>&quot;AL&quot;</td><td>1.0970e13</td><td>&quot;8844500c67fffff&quot;</td></tr><tr><td>31304405</td><td>470022</td><td>&quot;Brightspeed&quot;</td><td>1059486824</td><td>10</td><td>10</td><td>1</td><td>1</td><td>&quot;X&quot;</td><td>&quot;AL&quot;</td><td>1.0450e13</td><td>&quot;8844e10ac3fffff&quot;</td></tr><tr><td>1857952</td><td>130077</td><td>&quot;AT&amp;T Inc&quot;</td><td>1349115567</td><td>50</td><td>1000</td><td>1000</td><td>1</td><td>&quot;X&quot;</td><td>&quot;AL&quot;</td><td>1.0890e13</td><td>&quot;8844eb265dfffff&quot;</td></tr><tr><td>1857952</td><td>130077</td><td>&quot;AT&amp;T Inc&quot;</td><td>1325782882</td><td>50</td><td>5000</td><td>5000</td><td>1</td><td>&quot;X&quot;</td><td>&quot;AL&quot;</td><td>1.0730e13</td><td>&quot;8844e8ace1fffff&quot;</td></tr><tr><td>25646373</td><td>130235</td><td>&quot;Charter Communications Inc&quot;</td><td>1306623761</td><td>40</td><td>1000</td><td>35</td><td>1</td><td>&quot;R&quot;</td><td>&quot;AL&quot;</td><td>1.1170e13</td><td>&quot;8844e83353fffff&quot;</td></tr></tbody></table></div>"
      ],
      "text/plain": [
       "shape: (6_013_527, 12)\n",
       "┌──────────┬───────────┬───────────┬───────────┬───┬───────────┬───────────┬───────────┬───────────┐\n",
       "│ frn      ┆ provider_ ┆ brand_nam ┆ location_ ┆ … ┆ business_ ┆ state_usp ┆ block_geo ┆ h3_res8_i │\n",
       "│ ---      ┆ id        ┆ e         ┆ id        ┆   ┆ residenti ┆ s         ┆ id        ┆ d         │\n",
       "│ i32      ┆ ---       ┆ ---       ┆ ---       ┆   ┆ al_code   ┆ ---       ┆ ---       ┆ ---       │\n",
       "│          ┆ i32       ┆ str       ┆ i32       ┆   ┆ ---       ┆ str       ┆ f64       ┆ str       │\n",
       "│          ┆           ┆           ┆           ┆   ┆ str       ┆           ┆           ┆           │\n",
       "╞══════════╪═══════════╪═══════════╪═══════════╪═══╪═══════════╪═══════════╪═══════════╪═══════════╡\n",
       "│ 25646373 ┆ 130235    ┆ Charter   ┆ 130657540 ┆ … ┆ R         ┆ AL        ┆ 1.1170e13 ┆ 8844e8a31 │\n",
       "│          ┆           ┆ Communica ┆ 5         ┆   ┆           ┆           ┆           ┆ 1fffff    │\n",
       "│          ┆           ┆ tions Inc ┆           ┆   ┆           ┆           ┆           ┆           │\n",
       "│ 6945950  ┆ 130403    ┆ T-Mobile  ┆ 131528730 ┆ … ┆ X         ┆ AL        ┆ 1.1030e13 ┆ 8826492e5 │\n",
       "│          ┆           ┆ US        ┆ 8         ┆   ┆           ┆           ┆           ┆ 5fffff    │\n",
       "│ 6945950  ┆ 130403    ┆ T-Mobile  ┆ 114006403 ┆ … ┆ X         ┆ AL        ┆ 1.0360e13 ┆ 8844522e1 │\n",
       "│          ┆           ┆ US        ┆ 4         ┆   ┆           ┆           ┆           ┆ dfffff    │\n",
       "│ 31304405 ┆ 470022    ┆ Brightspe ┆ 105948422 ┆ … ┆ X         ┆ AL        ┆ 1.0450e13 ┆ 8844e1726 │\n",
       "│          ┆           ┆ ed        ┆ 2         ┆   ┆           ┆           ┆           ┆ dfffff    │\n",
       "│ 4036778  ┆ 130804    ┆ Mediacom  ┆ 134219966 ┆ … ┆ X         ┆ AL        ┆ 1.0970e13 ┆ 884450073 │\n",
       "│          ┆           ┆ Southeast ┆ 1         ┆   ┆           ┆           ┆           ┆ 1fffff    │\n",
       "│          ┆           ┆ LLC       ┆           ┆   ┆           ┆           ┆           ┆           │\n",
       "│ …        ┆ …         ┆ …         ┆ …         ┆ … ┆ …         ┆ …         ┆ …         ┆ …         │\n",
       "│ 1857952  ┆ 130077    ┆ AT&T Inc  ┆ 134212810 ┆ … ┆ X         ┆ AL        ┆ 1.0970e13 ┆ 8844500c6 │\n",
       "│          ┆           ┆           ┆ 4         ┆   ┆           ┆           ┆           ┆ 7fffff    │\n",
       "│ 31304405 ┆ 470022    ┆ Brightspe ┆ 105948682 ┆ … ┆ X         ┆ AL        ┆ 1.0450e13 ┆ 8844e10ac │\n",
       "│          ┆           ┆ ed        ┆ 4         ┆   ┆           ┆           ┆           ┆ 3fffff    │\n",
       "│ 1857952  ┆ 130077    ┆ AT&T Inc  ┆ 134911556 ┆ … ┆ X         ┆ AL        ┆ 1.0890e13 ┆ 8844eb265 │\n",
       "│          ┆           ┆           ┆ 7         ┆   ┆           ┆           ┆           ┆ dfffff    │\n",
       "│ 1857952  ┆ 130077    ┆ AT&T Inc  ┆ 132578288 ┆ … ┆ X         ┆ AL        ┆ 1.0730e13 ┆ 8844e8ace │\n",
       "│          ┆           ┆           ┆ 2         ┆   ┆           ┆           ┆           ┆ 1fffff    │\n",
       "│ 25646373 ┆ 130235    ┆ Charter   ┆ 130662376 ┆ … ┆ R         ┆ AL        ┆ 1.1170e13 ┆ 8844e8335 │\n",
       "│          ┆           ┆ Communica ┆ 1         ┆   ┆           ┆           ┆           ┆ 3fffff    │\n",
       "│          ┆           ┆ tions Inc ┆           ┆   ┆           ┆           ┆           ┆           │\n",
       "└──────────┴───────────┴───────────┴───────────┴───┴───────────┴───────────┴───────────┴───────────┘"
      ]
     },
     "execution_count": 5,
     "metadata": {},
     "output_type": "execute_result"
    }
   ],
   "source": [
    "stata_df.unique()"
   ]
  },
  {
   "cell_type": "code",
   "execution_count": 6,
   "id": "aacddbef",
   "metadata": {},
   "outputs": [
    {
     "data": {
      "text/plain": [
       "(6013527, 12)"
      ]
     },
     "execution_count": 6,
     "metadata": {},
     "output_type": "execute_result"
    }
   ],
   "source": [
    "stata_df.shape"
   ]
  },
  {
   "cell_type": "code",
   "execution_count": 7,
   "id": "0ef42904",
   "metadata": {},
   "outputs": [],
   "source": [
    "csv_df = load_data('CQAFabric File/FCC_Active_BSL_12312024_rel_6.csv')"
   ]
  },
  {
   "cell_type": "code",
   "execution_count": 9,
   "id": "0d9cf866",
   "metadata": {},
   "outputs": [
    {
     "data": {
      "text/html": [
       "<div><style>\n",
       ".dataframe > thead > tr,\n",
       ".dataframe > tbody > tr {\n",
       "  text-align: right;\n",
       "  white-space: pre-wrap;\n",
       "}\n",
       "</style>\n",
       "<small>shape: (115_813_384, 17)</small><table border=\"1\" class=\"dataframe\"><thead><tr><th>location_id</th><th>address_primary</th><th>city</th><th>state</th><th>zip</th><th>zip_suffix</th><th>unit_count</th><th>bsl_flag</th><th>building_type_code</th><th>land_use_code</th><th>address_confidence_code</th><th>county_geoid</th><th>block_geoid</th><th>h3_9</th><th>latitude</th><th>longitude</th><th>fcc_rel</th></tr><tr><td>i64</td><td>str</td><td>str</td><td>str</td><td>i64</td><td>str</td><td>i64</td><td>bool</td><td>str</td><td>i64</td><td>i64</td><td>i64</td><td>i64</td><td>str</td><td>f64</td><td>f64</td><td>i64</td></tr></thead><tbody><tr><td>1010579068</td><td>&quot;3320 HIGHWAY 14 W&quot;</td><td>&quot;AUTAUGAVILLE&quot;</td><td>&quot;AL&quot;</td><td>36003</td><td>&quot;&quot;</td><td>1</td><td>true</td><td>&quot;R&quot;</td><td>4</td><td>3</td><td>1001</td><td>10010211002035</td><td>&quot;8944ec2845bffff&quot;</td><td>32.450218</td><td>-86.744323</td><td>12312024</td></tr><tr><td>1010579069</td><td>&quot;1658 COUNTY ROAD 69&quot;</td><td>&quot;PRATTVILLE&quot;</td><td>&quot;AL&quot;</td><td>36067</td><td>&quot;8201&quot;</td><td>1</td><td>true</td><td>&quot;R&quot;</td><td>1</td><td>2</td><td>1001</td><td>10010210003017</td><td>&quot;8944e891d47ffff&quot;</td><td>32.672991</td><td>-86.697345</td><td>12312024</td></tr><tr><td>1010579070</td><td>&quot;2070 CALVIN LOOP&quot;</td><td>&quot;BILLINGSLEY&quot;</td><td>&quot;AL&quot;</td><td>36006</td><td>&quot;3308&quot;</td><td>1</td><td>true</td><td>&quot;R&quot;</td><td>1</td><td>2</td><td>1001</td><td>10010210003044</td><td>&quot;8944e89032fffff&quot;</td><td>32.659542</td><td>-86.712935</td><td>12312024</td></tr><tr><td>1010579071</td><td>&quot;4188 COUNTY ROAD 22&quot;</td><td>&quot;PLANTERSVILLE&quot;</td><td>&quot;AL&quot;</td><td>36758</td><td>&quot;&quot;</td><td>1</td><td>true</td><td>&quot;R&quot;</td><td>1</td><td>3</td><td>1001</td><td>10010210001024</td><td>&quot;8944ec2dda3ffff&quot;</td><td>32.629017</td><td>-86.881007</td><td>12312024</td></tr><tr><td>1010579073</td><td>&quot;3007 APRIL ST&quot;</td><td>&quot;PRATTVILLE&quot;</td><td>&quot;AL&quot;</td><td>36067</td><td>&quot;7136&quot;</td><td>1</td><td>true</td><td>&quot;R&quot;</td><td>1</td><td>1</td><td>1001</td><td>10010210002024</td><td>&quot;8944e893113ffff&quot;</td><td>32.588352</td><td>-86.701713</td><td>12312024</td></tr><tr><td>&hellip;</td><td>&hellip;</td><td>&hellip;</td><td>&hellip;</td><td>&hellip;</td><td>&hellip;</td><td>&hellip;</td><td>&hellip;</td><td>&hellip;</td><td>&hellip;</td><td>&hellip;</td><td>&hellip;</td><td>&hellip;</td><td>&hellip;</td><td>&hellip;</td><td>&hellip;</td><td>&hellip;</td></tr><tr><td>1566610984</td><td>&quot;10 FRENCHMAN BAY RD&quot;</td><td>&quot;&quot;</td><td>&quot;VI&quot;</td><td>null</td><td>&quot;&quot;</td><td>1</td><td>true</td><td>&quot;R&quot;</td><td>4</td><td>3</td><td>78030</td><td>780309609001035</td><td>&quot;894ce807533ffff&quot;</td><td>18.317092</td><td>-64.897989</td><td>12312024</td></tr><tr><td>1566611238</td><td>&quot;24 AGNES FANCY EST&quot;</td><td>&quot;&quot;</td><td>&quot;VI&quot;</td><td>null</td><td>&quot;&quot;</td><td>1</td><td>true</td><td>&quot;R&quot;</td><td>4</td><td>3</td><td>78030</td><td>780309604002009</td><td>&quot;894ce802d63ffff&quot;</td><td>18.346558</td><td>-64.936884</td><td>12312024</td></tr><tr><td>1566611247</td><td>&quot;55 HILL ST&quot;</td><td>&quot;&quot;</td><td>&quot;VI&quot;</td><td>null</td><td>&quot;&quot;</td><td>1</td><td>true</td><td>&quot;R&quot;</td><td>4</td><td>3</td><td>78030</td><td>780309606001011</td><td>&quot;894ce802d6bffff&quot;</td><td>18.345431</td><td>-64.939124</td><td>12312024</td></tr><tr><td>1566611353</td><td>&quot;782 MARIENDAL EST BLDG 2&quot;</td><td>&quot;&quot;</td><td>&quot;VI&quot;</td><td>null</td><td>&quot;&quot;</td><td>1</td><td>true</td><td>&quot;R&quot;</td><td>4</td><td>3</td><td>78030</td><td>780309602003000</td><td>&quot;894ce8066afffff&quot;</td><td>18.330902</td><td>-64.876501</td><td>12312024</td></tr><tr><td>1566612578</td><td>&quot;16 PRINDSESSE GADE BLDG 2&quot;</td><td>&quot;&quot;</td><td>&quot;VI&quot;</td><td>null</td><td>&quot;&quot;</td><td>1</td><td>true</td><td>&quot;R&quot;</td><td>4</td><td>3</td><td>78030</td><td>780309610002015</td><td>&quot;894ce8029d7ffff&quot;</td><td>18.341452</td><td>-64.937123</td><td>12312024</td></tr></tbody></table></div>"
      ],
      "text/plain": [
       "shape: (115_813_384, 17)\n",
       "┌────────────┬────────────┬────────────┬───────┬───┬────────────┬───────────┬───────────┬──────────┐\n",
       "│ location_i ┆ address_pr ┆ city       ┆ state ┆ … ┆ h3_9       ┆ latitude  ┆ longitude ┆ fcc_rel  │\n",
       "│ d          ┆ imary      ┆ ---        ┆ ---   ┆   ┆ ---        ┆ ---       ┆ ---       ┆ ---      │\n",
       "│ ---        ┆ ---        ┆ str        ┆ str   ┆   ┆ str        ┆ f64       ┆ f64       ┆ i64      │\n",
       "│ i64        ┆ str        ┆            ┆       ┆   ┆            ┆           ┆           ┆          │\n",
       "╞════════════╪════════════╪════════════╪═══════╪═══╪════════════╪═══════════╪═══════════╪══════════╡\n",
       "│ 1010579068 ┆ 3320       ┆ AUTAUGAVIL ┆ AL    ┆ … ┆ 8944ec2845 ┆ 32.450218 ┆ -86.74432 ┆ 12312024 │\n",
       "│            ┆ HIGHWAY 14 ┆ LE         ┆       ┆   ┆ bffff      ┆           ┆ 3         ┆          │\n",
       "│            ┆ W          ┆            ┆       ┆   ┆            ┆           ┆           ┆          │\n",
       "│ 1010579069 ┆ 1658       ┆ PRATTVILLE ┆ AL    ┆ … ┆ 8944e891d4 ┆ 32.672991 ┆ -86.69734 ┆ 12312024 │\n",
       "│            ┆ COUNTY     ┆            ┆       ┆   ┆ 7ffff      ┆           ┆ 5         ┆          │\n",
       "│            ┆ ROAD 69    ┆            ┆       ┆   ┆            ┆           ┆           ┆          │\n",
       "│ 1010579070 ┆ 2070       ┆ BILLINGSLE ┆ AL    ┆ … ┆ 8944e89032 ┆ 32.659542 ┆ -86.71293 ┆ 12312024 │\n",
       "│            ┆ CALVIN     ┆ Y          ┆       ┆   ┆ fffff      ┆           ┆ 5         ┆          │\n",
       "│            ┆ LOOP       ┆            ┆       ┆   ┆            ┆           ┆           ┆          │\n",
       "│ 1010579071 ┆ 4188       ┆ PLANTERSVI ┆ AL    ┆ … ┆ 8944ec2dda ┆ 32.629017 ┆ -86.88100 ┆ 12312024 │\n",
       "│            ┆ COUNTY     ┆ LLE        ┆       ┆   ┆ 3ffff      ┆           ┆ 7         ┆          │\n",
       "│            ┆ ROAD 22    ┆            ┆       ┆   ┆            ┆           ┆           ┆          │\n",
       "│ 1010579073 ┆ 3007 APRIL ┆ PRATTVILLE ┆ AL    ┆ … ┆ 8944e89311 ┆ 32.588352 ┆ -86.70171 ┆ 12312024 │\n",
       "│            ┆ ST         ┆            ┆       ┆   ┆ 3ffff      ┆           ┆ 3         ┆          │\n",
       "│ …          ┆ …          ┆ …          ┆ …     ┆ … ┆ …          ┆ …         ┆ …         ┆ …        │\n",
       "│ 1566610984 ┆ 10         ┆            ┆ VI    ┆ … ┆ 894ce80753 ┆ 18.317092 ┆ -64.89798 ┆ 12312024 │\n",
       "│            ┆ FRENCHMAN  ┆            ┆       ┆   ┆ 3ffff      ┆           ┆ 9         ┆          │\n",
       "│            ┆ BAY RD     ┆            ┆       ┆   ┆            ┆           ┆           ┆          │\n",
       "│ 1566611238 ┆ 24 AGNES   ┆            ┆ VI    ┆ … ┆ 894ce802d6 ┆ 18.346558 ┆ -64.93688 ┆ 12312024 │\n",
       "│            ┆ FANCY EST  ┆            ┆       ┆   ┆ 3ffff      ┆           ┆ 4         ┆          │\n",
       "│ 1566611247 ┆ 55 HILL ST ┆            ┆ VI    ┆ … ┆ 894ce802d6 ┆ 18.345431 ┆ -64.93912 ┆ 12312024 │\n",
       "│            ┆            ┆            ┆       ┆   ┆ bffff      ┆           ┆ 4         ┆          │\n",
       "│ 1566611353 ┆ 782        ┆            ┆ VI    ┆ … ┆ 894ce8066a ┆ 18.330902 ┆ -64.87650 ┆ 12312024 │\n",
       "│            ┆ MARIENDAL  ┆            ┆       ┆   ┆ fffff      ┆           ┆ 1         ┆          │\n",
       "│            ┆ EST BLDG 2 ┆            ┆       ┆   ┆            ┆           ┆           ┆          │\n",
       "│ 1566612578 ┆ 16         ┆            ┆ VI    ┆ … ┆ 894ce8029d ┆ 18.341452 ┆ -64.93712 ┆ 12312024 │\n",
       "│            ┆ PRINDSESSE ┆            ┆       ┆   ┆ 7ffff      ┆           ┆ 3         ┆          │\n",
       "│            ┆ GADE BLDG  ┆            ┆       ┆   ┆            ┆           ┆           ┆          │\n",
       "│            ┆ 2          ┆            ┆       ┆   ┆            ┆           ┆           ┆          │\n",
       "└────────────┴────────────┴────────────┴───────┴───┴────────────┴───────────┴───────────┴──────────┘"
      ]
     },
     "execution_count": 9,
     "metadata": {},
     "output_type": "execute_result"
    }
   ],
   "source": [
    "csv_df"
   ]
  },
  {
   "cell_type": "code",
   "execution_count": 10,
   "id": "2b6bbb6a",
   "metadata": {},
   "outputs": [
    {
     "data": {
      "text/plain": [
       "(115813384, 17)"
      ]
     },
     "execution_count": 10,
     "metadata": {},
     "output_type": "execute_result"
    }
   ],
   "source": [
    "csv_df.shape"
   ]
  },
  {
   "cell_type": "markdown",
   "id": "35f09b2f",
   "metadata": {},
   "source": [
    "Replace empty strings in zip_suffix to \"0\""
   ]
  },
  {
   "cell_type": "code",
   "execution_count": 50,
   "id": "74c0537d",
   "metadata": {},
   "outputs": [
    {
     "data": {
      "text/html": [
       "<div><style>\n",
       ".dataframe > thead > tr,\n",
       ".dataframe > tbody > tr {\n",
       "  text-align: right;\n",
       "  white-space: pre-wrap;\n",
       "}\n",
       "</style>\n",
       "<small>shape: (115_813_384, 17)</small><table border=\"1\" class=\"dataframe\"><thead><tr><th>location_id</th><th>address_primary</th><th>city</th><th>state</th><th>zip</th><th>zip_suffix</th><th>unit_count</th><th>bsl_flag</th><th>building_type_code</th><th>land_use_code</th><th>address_confidence_code</th><th>county_geoid</th><th>block_geoid</th><th>h3_9</th><th>latitude</th><th>longitude</th><th>fcc_rel</th></tr><tr><td>i64</td><td>str</td><td>str</td><td>str</td><td>i64</td><td>str</td><td>i64</td><td>bool</td><td>str</td><td>i64</td><td>i64</td><td>i64</td><td>i64</td><td>str</td><td>f64</td><td>f64</td><td>i64</td></tr></thead><tbody><tr><td>1010579068</td><td>&quot;3320 HIGHWAY 14 W&quot;</td><td>&quot;AUTAUGAVILLE&quot;</td><td>&quot;AL&quot;</td><td>36003</td><td>&quot;0&quot;</td><td>1</td><td>true</td><td>&quot;R&quot;</td><td>4</td><td>3</td><td>1001</td><td>10010211002035</td><td>&quot;8944ec2845bffff&quot;</td><td>32.450218</td><td>-86.744323</td><td>12312024</td></tr><tr><td>1010579069</td><td>&quot;1658 COUNTY ROAD 69&quot;</td><td>&quot;PRATTVILLE&quot;</td><td>&quot;AL&quot;</td><td>36067</td><td>&quot;8201&quot;</td><td>1</td><td>true</td><td>&quot;R&quot;</td><td>1</td><td>2</td><td>1001</td><td>10010210003017</td><td>&quot;8944e891d47ffff&quot;</td><td>32.672991</td><td>-86.697345</td><td>12312024</td></tr><tr><td>1010579070</td><td>&quot;2070 CALVIN LOOP&quot;</td><td>&quot;BILLINGSLEY&quot;</td><td>&quot;AL&quot;</td><td>36006</td><td>&quot;3308&quot;</td><td>1</td><td>true</td><td>&quot;R&quot;</td><td>1</td><td>2</td><td>1001</td><td>10010210003044</td><td>&quot;8944e89032fffff&quot;</td><td>32.659542</td><td>-86.712935</td><td>12312024</td></tr><tr><td>1010579071</td><td>&quot;4188 COUNTY ROAD 22&quot;</td><td>&quot;PLANTERSVILLE&quot;</td><td>&quot;AL&quot;</td><td>36758</td><td>&quot;0&quot;</td><td>1</td><td>true</td><td>&quot;R&quot;</td><td>1</td><td>3</td><td>1001</td><td>10010210001024</td><td>&quot;8944ec2dda3ffff&quot;</td><td>32.629017</td><td>-86.881007</td><td>12312024</td></tr><tr><td>1010579073</td><td>&quot;3007 APRIL ST&quot;</td><td>&quot;PRATTVILLE&quot;</td><td>&quot;AL&quot;</td><td>36067</td><td>&quot;7136&quot;</td><td>1</td><td>true</td><td>&quot;R&quot;</td><td>1</td><td>1</td><td>1001</td><td>10010210002024</td><td>&quot;8944e893113ffff&quot;</td><td>32.588352</td><td>-86.701713</td><td>12312024</td></tr><tr><td>&hellip;</td><td>&hellip;</td><td>&hellip;</td><td>&hellip;</td><td>&hellip;</td><td>&hellip;</td><td>&hellip;</td><td>&hellip;</td><td>&hellip;</td><td>&hellip;</td><td>&hellip;</td><td>&hellip;</td><td>&hellip;</td><td>&hellip;</td><td>&hellip;</td><td>&hellip;</td><td>&hellip;</td></tr><tr><td>1566610984</td><td>&quot;10 FRENCHMAN BAY RD&quot;</td><td>&quot;&quot;</td><td>&quot;VI&quot;</td><td>null</td><td>&quot;0&quot;</td><td>1</td><td>true</td><td>&quot;R&quot;</td><td>4</td><td>3</td><td>78030</td><td>780309609001035</td><td>&quot;894ce807533ffff&quot;</td><td>18.317092</td><td>-64.897989</td><td>12312024</td></tr><tr><td>1566611238</td><td>&quot;24 AGNES FANCY EST&quot;</td><td>&quot;&quot;</td><td>&quot;VI&quot;</td><td>null</td><td>&quot;0&quot;</td><td>1</td><td>true</td><td>&quot;R&quot;</td><td>4</td><td>3</td><td>78030</td><td>780309604002009</td><td>&quot;894ce802d63ffff&quot;</td><td>18.346558</td><td>-64.936884</td><td>12312024</td></tr><tr><td>1566611247</td><td>&quot;55 HILL ST&quot;</td><td>&quot;&quot;</td><td>&quot;VI&quot;</td><td>null</td><td>&quot;0&quot;</td><td>1</td><td>true</td><td>&quot;R&quot;</td><td>4</td><td>3</td><td>78030</td><td>780309606001011</td><td>&quot;894ce802d6bffff&quot;</td><td>18.345431</td><td>-64.939124</td><td>12312024</td></tr><tr><td>1566611353</td><td>&quot;782 MARIENDAL EST BLDG 2&quot;</td><td>&quot;&quot;</td><td>&quot;VI&quot;</td><td>null</td><td>&quot;0&quot;</td><td>1</td><td>true</td><td>&quot;R&quot;</td><td>4</td><td>3</td><td>78030</td><td>780309602003000</td><td>&quot;894ce8066afffff&quot;</td><td>18.330902</td><td>-64.876501</td><td>12312024</td></tr><tr><td>1566612578</td><td>&quot;16 PRINDSESSE GADE BLDG 2&quot;</td><td>&quot;&quot;</td><td>&quot;VI&quot;</td><td>null</td><td>&quot;0&quot;</td><td>1</td><td>true</td><td>&quot;R&quot;</td><td>4</td><td>3</td><td>78030</td><td>780309610002015</td><td>&quot;894ce8029d7ffff&quot;</td><td>18.341452</td><td>-64.937123</td><td>12312024</td></tr></tbody></table></div>"
      ],
      "text/plain": [
       "shape: (115_813_384, 17)\n",
       "┌────────────┬────────────┬────────────┬───────┬───┬────────────┬───────────┬───────────┬──────────┐\n",
       "│ location_i ┆ address_pr ┆ city       ┆ state ┆ … ┆ h3_9       ┆ latitude  ┆ longitude ┆ fcc_rel  │\n",
       "│ d          ┆ imary      ┆ ---        ┆ ---   ┆   ┆ ---        ┆ ---       ┆ ---       ┆ ---      │\n",
       "│ ---        ┆ ---        ┆ str        ┆ str   ┆   ┆ str        ┆ f64       ┆ f64       ┆ i64      │\n",
       "│ i64        ┆ str        ┆            ┆       ┆   ┆            ┆           ┆           ┆          │\n",
       "╞════════════╪════════════╪════════════╪═══════╪═══╪════════════╪═══════════╪═══════════╪══════════╡\n",
       "│ 1010579068 ┆ 3320       ┆ AUTAUGAVIL ┆ AL    ┆ … ┆ 8944ec2845 ┆ 32.450218 ┆ -86.74432 ┆ 12312024 │\n",
       "│            ┆ HIGHWAY 14 ┆ LE         ┆       ┆   ┆ bffff      ┆           ┆ 3         ┆          │\n",
       "│            ┆ W          ┆            ┆       ┆   ┆            ┆           ┆           ┆          │\n",
       "│ 1010579069 ┆ 1658       ┆ PRATTVILLE ┆ AL    ┆ … ┆ 8944e891d4 ┆ 32.672991 ┆ -86.69734 ┆ 12312024 │\n",
       "│            ┆ COUNTY     ┆            ┆       ┆   ┆ 7ffff      ┆           ┆ 5         ┆          │\n",
       "│            ┆ ROAD 69    ┆            ┆       ┆   ┆            ┆           ┆           ┆          │\n",
       "│ 1010579070 ┆ 2070       ┆ BILLINGSLE ┆ AL    ┆ … ┆ 8944e89032 ┆ 32.659542 ┆ -86.71293 ┆ 12312024 │\n",
       "│            ┆ CALVIN     ┆ Y          ┆       ┆   ┆ fffff      ┆           ┆ 5         ┆          │\n",
       "│            ┆ LOOP       ┆            ┆       ┆   ┆            ┆           ┆           ┆          │\n",
       "│ 1010579071 ┆ 4188       ┆ PLANTERSVI ┆ AL    ┆ … ┆ 8944ec2dda ┆ 32.629017 ┆ -86.88100 ┆ 12312024 │\n",
       "│            ┆ COUNTY     ┆ LLE        ┆       ┆   ┆ 3ffff      ┆           ┆ 7         ┆          │\n",
       "│            ┆ ROAD 22    ┆            ┆       ┆   ┆            ┆           ┆           ┆          │\n",
       "│ 1010579073 ┆ 3007 APRIL ┆ PRATTVILLE ┆ AL    ┆ … ┆ 8944e89311 ┆ 32.588352 ┆ -86.70171 ┆ 12312024 │\n",
       "│            ┆ ST         ┆            ┆       ┆   ┆ 3ffff      ┆           ┆ 3         ┆          │\n",
       "│ …          ┆ …          ┆ …          ┆ …     ┆ … ┆ …          ┆ …         ┆ …         ┆ …        │\n",
       "│ 1566610984 ┆ 10         ┆            ┆ VI    ┆ … ┆ 894ce80753 ┆ 18.317092 ┆ -64.89798 ┆ 12312024 │\n",
       "│            ┆ FRENCHMAN  ┆            ┆       ┆   ┆ 3ffff      ┆           ┆ 9         ┆          │\n",
       "│            ┆ BAY RD     ┆            ┆       ┆   ┆            ┆           ┆           ┆          │\n",
       "│ 1566611238 ┆ 24 AGNES   ┆            ┆ VI    ┆ … ┆ 894ce802d6 ┆ 18.346558 ┆ -64.93688 ┆ 12312024 │\n",
       "│            ┆ FANCY EST  ┆            ┆       ┆   ┆ 3ffff      ┆           ┆ 4         ┆          │\n",
       "│ 1566611247 ┆ 55 HILL ST ┆            ┆ VI    ┆ … ┆ 894ce802d6 ┆ 18.345431 ┆ -64.93912 ┆ 12312024 │\n",
       "│            ┆            ┆            ┆       ┆   ┆ bffff      ┆           ┆ 4         ┆          │\n",
       "│ 1566611353 ┆ 782        ┆            ┆ VI    ┆ … ┆ 894ce8066a ┆ 18.330902 ┆ -64.87650 ┆ 12312024 │\n",
       "│            ┆ MARIENDAL  ┆            ┆       ┆   ┆ fffff      ┆           ┆ 1         ┆          │\n",
       "│            ┆ EST BLDG 2 ┆            ┆       ┆   ┆            ┆           ┆           ┆          │\n",
       "│ 1566612578 ┆ 16         ┆            ┆ VI    ┆ … ┆ 894ce8029d ┆ 18.341452 ┆ -64.93712 ┆ 12312024 │\n",
       "│            ┆ PRINDSESSE ┆            ┆       ┆   ┆ 7ffff      ┆           ┆ 3         ┆          │\n",
       "│            ┆ GADE BLDG  ┆            ┆       ┆   ┆            ┆           ┆           ┆          │\n",
       "│            ┆ 2          ┆            ┆       ┆   ┆            ┆           ┆           ┆          │\n",
       "└────────────┴────────────┴────────────┴───────┴───┴────────────┴───────────┴───────────┴──────────┘"
      ]
     },
     "execution_count": 50,
     "metadata": {},
     "output_type": "execute_result"
    }
   ],
   "source": [
    "csv_df.with_columns(pl.col('zip_suffix').replace('', \"0\"))"
   ]
  },
  {
   "cell_type": "code",
   "execution_count": 51,
   "id": "96efb898",
   "metadata": {},
   "outputs": [
    {
     "data": {
      "text/plain": [
       "['location_id',\n",
       " 'address_primary',\n",
       " 'city',\n",
       " 'state',\n",
       " 'zip',\n",
       " 'zip_suffix',\n",
       " 'unit_count',\n",
       " 'bsl_flag',\n",
       " 'building_type_code',\n",
       " 'land_use_code',\n",
       " 'address_confidence_code',\n",
       " 'county_geoid',\n",
       " 'block_geoid',\n",
       " 'h3_9',\n",
       " 'latitude',\n",
       " 'longitude',\n",
       " 'fcc_rel']"
      ]
     },
     "execution_count": 51,
     "metadata": {},
     "output_type": "execute_result"
    }
   ],
   "source": [
    "csv_df.columns"
   ]
  },
  {
   "cell_type": "code",
   "execution_count": 59,
   "id": "e4cfa699",
   "metadata": {},
   "outputs": [
    {
     "data": {
      "text/html": [
       "<div><style>\n",
       ".dataframe > thead > tr,\n",
       ".dataframe > tbody > tr {\n",
       "  text-align: right;\n",
       "  white-space: pre-wrap;\n",
       "}\n",
       "</style>\n",
       "<small>shape: (115_813_384, 17)</small><table border=\"1\" class=\"dataframe\"><thead><tr><th>location_id</th><th>address_primary</th><th>city</th><th>state</th><th>zip</th><th>zip_suffix</th><th>unit_count</th><th>bsl_flag</th><th>building_type_code</th><th>land_use_code</th><th>address_confidence_code</th><th>county_geoid</th><th>block_geoid</th><th>h3_9</th><th>latitude</th><th>longitude</th><th>fcc_rel</th></tr><tr><td>i32</td><td>str</td><td>str</td><td>cat</td><td>i32</td><td>i16</td><td>i32</td><td>bool</td><td>cat</td><td>i8</td><td>i8</td><td>i64</td><td>i64</td><td>str</td><td>f64</td><td>f64</td><td>i64</td></tr></thead><tbody><tr><td>1010579068</td><td>&quot;3320 HIGHWAY 14 W&quot;</td><td>&quot;AUTAUGAVILLE&quot;</td><td>&quot;AL&quot;</td><td>36003</td><td>0</td><td>1</td><td>true</td><td>&quot;R&quot;</td><td>4</td><td>3</td><td>1001</td><td>10010211002035</td><td>&quot;8944ec2845bffff&quot;</td><td>32.450218</td><td>-86.744323</td><td>12312024</td></tr><tr><td>1010579069</td><td>&quot;1658 COUNTY ROAD 69&quot;</td><td>&quot;PRATTVILLE&quot;</td><td>&quot;AL&quot;</td><td>36067</td><td>8201</td><td>1</td><td>true</td><td>&quot;R&quot;</td><td>1</td><td>2</td><td>1001</td><td>10010210003017</td><td>&quot;8944e891d47ffff&quot;</td><td>32.672991</td><td>-86.697345</td><td>12312024</td></tr><tr><td>1010579070</td><td>&quot;2070 CALVIN LOOP&quot;</td><td>&quot;BILLINGSLEY&quot;</td><td>&quot;AL&quot;</td><td>36006</td><td>3308</td><td>1</td><td>true</td><td>&quot;R&quot;</td><td>1</td><td>2</td><td>1001</td><td>10010210003044</td><td>&quot;8944e89032fffff&quot;</td><td>32.659542</td><td>-86.712935</td><td>12312024</td></tr><tr><td>1010579071</td><td>&quot;4188 COUNTY ROAD 22&quot;</td><td>&quot;PLANTERSVILLE&quot;</td><td>&quot;AL&quot;</td><td>36758</td><td>0</td><td>1</td><td>true</td><td>&quot;R&quot;</td><td>1</td><td>3</td><td>1001</td><td>10010210001024</td><td>&quot;8944ec2dda3ffff&quot;</td><td>32.629017</td><td>-86.881007</td><td>12312024</td></tr><tr><td>1010579073</td><td>&quot;3007 APRIL ST&quot;</td><td>&quot;PRATTVILLE&quot;</td><td>&quot;AL&quot;</td><td>36067</td><td>7136</td><td>1</td><td>true</td><td>&quot;R&quot;</td><td>1</td><td>1</td><td>1001</td><td>10010210002024</td><td>&quot;8944e893113ffff&quot;</td><td>32.588352</td><td>-86.701713</td><td>12312024</td></tr><tr><td>&hellip;</td><td>&hellip;</td><td>&hellip;</td><td>&hellip;</td><td>&hellip;</td><td>&hellip;</td><td>&hellip;</td><td>&hellip;</td><td>&hellip;</td><td>&hellip;</td><td>&hellip;</td><td>&hellip;</td><td>&hellip;</td><td>&hellip;</td><td>&hellip;</td><td>&hellip;</td><td>&hellip;</td></tr><tr><td>1566610984</td><td>&quot;10 FRENCHMAN BAY RD&quot;</td><td>&quot;&quot;</td><td>&quot;VI&quot;</td><td>null</td><td>0</td><td>1</td><td>true</td><td>&quot;R&quot;</td><td>4</td><td>3</td><td>78030</td><td>780309609001035</td><td>&quot;894ce807533ffff&quot;</td><td>18.317092</td><td>-64.897989</td><td>12312024</td></tr><tr><td>1566611238</td><td>&quot;24 AGNES FANCY EST&quot;</td><td>&quot;&quot;</td><td>&quot;VI&quot;</td><td>null</td><td>0</td><td>1</td><td>true</td><td>&quot;R&quot;</td><td>4</td><td>3</td><td>78030</td><td>780309604002009</td><td>&quot;894ce802d63ffff&quot;</td><td>18.346558</td><td>-64.936884</td><td>12312024</td></tr><tr><td>1566611247</td><td>&quot;55 HILL ST&quot;</td><td>&quot;&quot;</td><td>&quot;VI&quot;</td><td>null</td><td>0</td><td>1</td><td>true</td><td>&quot;R&quot;</td><td>4</td><td>3</td><td>78030</td><td>780309606001011</td><td>&quot;894ce802d6bffff&quot;</td><td>18.345431</td><td>-64.939124</td><td>12312024</td></tr><tr><td>1566611353</td><td>&quot;782 MARIENDAL EST BLDG 2&quot;</td><td>&quot;&quot;</td><td>&quot;VI&quot;</td><td>null</td><td>0</td><td>1</td><td>true</td><td>&quot;R&quot;</td><td>4</td><td>3</td><td>78030</td><td>780309602003000</td><td>&quot;894ce8066afffff&quot;</td><td>18.330902</td><td>-64.876501</td><td>12312024</td></tr><tr><td>1566612578</td><td>&quot;16 PRINDSESSE GADE BLDG 2&quot;</td><td>&quot;&quot;</td><td>&quot;VI&quot;</td><td>null</td><td>0</td><td>1</td><td>true</td><td>&quot;R&quot;</td><td>4</td><td>3</td><td>78030</td><td>780309610002015</td><td>&quot;894ce8029d7ffff&quot;</td><td>18.341452</td><td>-64.937123</td><td>12312024</td></tr></tbody></table></div>"
      ],
      "text/plain": [
       "shape: (115_813_384, 17)\n",
       "┌────────────┬────────────┬────────────┬───────┬───┬────────────┬───────────┬───────────┬──────────┐\n",
       "│ location_i ┆ address_pr ┆ city       ┆ state ┆ … ┆ h3_9       ┆ latitude  ┆ longitude ┆ fcc_rel  │\n",
       "│ d          ┆ imary      ┆ ---        ┆ ---   ┆   ┆ ---        ┆ ---       ┆ ---       ┆ ---      │\n",
       "│ ---        ┆ ---        ┆ str        ┆ cat   ┆   ┆ str        ┆ f64       ┆ f64       ┆ i64      │\n",
       "│ i32        ┆ str        ┆            ┆       ┆   ┆            ┆           ┆           ┆          │\n",
       "╞════════════╪════════════╪════════════╪═══════╪═══╪════════════╪═══════════╪═══════════╪══════════╡\n",
       "│ 1010579068 ┆ 3320       ┆ AUTAUGAVIL ┆ AL    ┆ … ┆ 8944ec2845 ┆ 32.450218 ┆ -86.74432 ┆ 12312024 │\n",
       "│            ┆ HIGHWAY 14 ┆ LE         ┆       ┆   ┆ bffff      ┆           ┆ 3         ┆          │\n",
       "│            ┆ W          ┆            ┆       ┆   ┆            ┆           ┆           ┆          │\n",
       "│ 1010579069 ┆ 1658       ┆ PRATTVILLE ┆ AL    ┆ … ┆ 8944e891d4 ┆ 32.672991 ┆ -86.69734 ┆ 12312024 │\n",
       "│            ┆ COUNTY     ┆            ┆       ┆   ┆ 7ffff      ┆           ┆ 5         ┆          │\n",
       "│            ┆ ROAD 69    ┆            ┆       ┆   ┆            ┆           ┆           ┆          │\n",
       "│ 1010579070 ┆ 2070       ┆ BILLINGSLE ┆ AL    ┆ … ┆ 8944e89032 ┆ 32.659542 ┆ -86.71293 ┆ 12312024 │\n",
       "│            ┆ CALVIN     ┆ Y          ┆       ┆   ┆ fffff      ┆           ┆ 5         ┆          │\n",
       "│            ┆ LOOP       ┆            ┆       ┆   ┆            ┆           ┆           ┆          │\n",
       "│ 1010579071 ┆ 4188       ┆ PLANTERSVI ┆ AL    ┆ … ┆ 8944ec2dda ┆ 32.629017 ┆ -86.88100 ┆ 12312024 │\n",
       "│            ┆ COUNTY     ┆ LLE        ┆       ┆   ┆ 3ffff      ┆           ┆ 7         ┆          │\n",
       "│            ┆ ROAD 22    ┆            ┆       ┆   ┆            ┆           ┆           ┆          │\n",
       "│ 1010579073 ┆ 3007 APRIL ┆ PRATTVILLE ┆ AL    ┆ … ┆ 8944e89311 ┆ 32.588352 ┆ -86.70171 ┆ 12312024 │\n",
       "│            ┆ ST         ┆            ┆       ┆   ┆ 3ffff      ┆           ┆ 3         ┆          │\n",
       "│ …          ┆ …          ┆ …          ┆ …     ┆ … ┆ …          ┆ …         ┆ …         ┆ …        │\n",
       "│ 1566610984 ┆ 10         ┆            ┆ VI    ┆ … ┆ 894ce80753 ┆ 18.317092 ┆ -64.89798 ┆ 12312024 │\n",
       "│            ┆ FRENCHMAN  ┆            ┆       ┆   ┆ 3ffff      ┆           ┆ 9         ┆          │\n",
       "│            ┆ BAY RD     ┆            ┆       ┆   ┆            ┆           ┆           ┆          │\n",
       "│ 1566611238 ┆ 24 AGNES   ┆            ┆ VI    ┆ … ┆ 894ce802d6 ┆ 18.346558 ┆ -64.93688 ┆ 12312024 │\n",
       "│            ┆ FANCY EST  ┆            ┆       ┆   ┆ 3ffff      ┆           ┆ 4         ┆          │\n",
       "│ 1566611247 ┆ 55 HILL ST ┆            ┆ VI    ┆ … ┆ 894ce802d6 ┆ 18.345431 ┆ -64.93912 ┆ 12312024 │\n",
       "│            ┆            ┆            ┆       ┆   ┆ bffff      ┆           ┆ 4         ┆          │\n",
       "│ 1566611353 ┆ 782        ┆            ┆ VI    ┆ … ┆ 894ce8066a ┆ 18.330902 ┆ -64.87650 ┆ 12312024 │\n",
       "│            ┆ MARIENDAL  ┆            ┆       ┆   ┆ fffff      ┆           ┆ 1         ┆          │\n",
       "│            ┆ EST BLDG 2 ┆            ┆       ┆   ┆            ┆           ┆           ┆          │\n",
       "│ 1566612578 ┆ 16         ┆            ┆ VI    ┆ … ┆ 894ce8029d ┆ 18.341452 ┆ -64.93712 ┆ 12312024 │\n",
       "│            ┆ PRINDSESSE ┆            ┆       ┆   ┆ 7ffff      ┆           ┆ 3         ┆          │\n",
       "│            ┆ GADE BLDG  ┆            ┆       ┆   ┆            ┆           ┆           ┆          │\n",
       "│            ┆ 2          ┆            ┆       ┆   ┆            ┆           ┆           ┆          │\n",
       "└────────────┴────────────┴────────────┴───────┴───┴────────────┴───────────┴───────────┴──────────┘"
      ]
     },
     "execution_count": 59,
     "metadata": {},
     "output_type": "execute_result"
    }
   ],
   "source": [
    "(\n",
    "    csv_df\n",
    "    .with_columns(pl.col('zip_suffix').replace('', \"0\"))\n",
    "    .with_columns(pl.col('zip_suffix').replace('    ', \"0\"))\n",
    "    .with_columns(\n",
    "        [\n",
    "        pl.col('location_id').cast(pl.Int32), \n",
    "        pl.col('state').cast(pl.Categorical),\n",
    "        pl.col('building_type_code').cast(pl.Categorical),\n",
    "        pl.col('land_use_code').cast(pl.Int8),\n",
    "        pl.col('address_confidence_code').cast(pl.Int8),\n",
    "        pl.col('unit_count').cast(pl.Int32),\n",
    "        pl.col('zip_suffix').cast(pl.Int16),\n",
    "        pl.col('zip').cast(pl.Int32)\n",
    "        ]\n",
    "                )\n",
    ")"
   ]
  },
  {
   "cell_type": "code",
   "execution_count": 10,
   "id": "d695eac9",
   "metadata": {},
   "outputs": [],
   "source": [
    "def merge_dataframes(df1: pl.DataFrame, df2: pl.DataFrame) -> pl.DataFrame:\n",
    "    return df1.join(df2, on=[\"location_id\"], how=\"inner\")"
   ]
  },
  {
   "cell_type": "code",
   "execution_count": 11,
   "id": "a84c1697",
   "metadata": {},
   "outputs": [
    {
     "data": {
      "text/html": [
       "<div><style>\n",
       ".dataframe > thead > tr,\n",
       ".dataframe > tbody > tr {\n",
       "  text-align: right;\n",
       "  white-space: pre-wrap;\n",
       "}\n",
       "</style>\n",
       "<small>shape: (5_759_597, 28)</small><table border=\"1\" class=\"dataframe\"><thead><tr><th>frn</th><th>provider_id</th><th>brand_name</th><th>location_id</th><th>technology</th><th>max_advertised_download_speed</th><th>max_advertised_upload_speed</th><th>low_latency</th><th>business_residential_code</th><th>state_usps</th><th>block_geoid</th><th>h3_res8_id</th><th>address_primary</th><th>city</th><th>state</th><th>zip</th><th>zip_suffix</th><th>unit_count</th><th>bsl_flag</th><th>building_type_code</th><th>land_use_code</th><th>address_confidence_code</th><th>county_geoid</th><th>block_geoid_right</th><th>h3_9</th><th>latitude</th><th>longitude</th><th>fcc_rel</th></tr><tr><td>i32</td><td>i32</td><td>str</td><td>i32</td><td>i8</td><td>i32</td><td>i32</td><td>i8</td><td>str</td><td>str</td><td>f64</td><td>str</td><td>str</td><td>str</td><td>str</td><td>i64</td><td>str</td><td>i64</td><td>bool</td><td>str</td><td>i64</td><td>i64</td><td>i64</td><td>i64</td><td>str</td><td>f64</td><td>f64</td><td>i64</td></tr></thead><tbody><tr><td>6945950</td><td>130403</td><td>&quot;T-Mobile US&quot;</td><td>1010579068</td><td>71</td><td>0</td><td>0</td><td>1</td><td>&quot;X&quot;</td><td>&quot;AL&quot;</td><td>1.0010e13</td><td>&quot;8844ec2845fffff&quot;</td><td>&quot;3320 HIGHWAY 14 W&quot;</td><td>&quot;AUTAUGAVILLE&quot;</td><td>&quot;AL&quot;</td><td>36003</td><td>&quot;&quot;</td><td>1</td><td>true</td><td>&quot;R&quot;</td><td>4</td><td>3</td><td>1001</td><td>10010211002035</td><td>&quot;8944ec2845bffff&quot;</td><td>32.450218</td><td>-86.744323</td><td>12312024</td></tr><tr><td>29779642</td><td>420017</td><td>&quot;Central Access&quot;</td><td>1010579068</td><td>50</td><td>1000</td><td>1000</td><td>1</td><td>&quot;X&quot;</td><td>&quot;AL&quot;</td><td>1.0010e13</td><td>&quot;8844ec2845fffff&quot;</td><td>&quot;3320 HIGHWAY 14 W&quot;</td><td>&quot;AUTAUGAVILLE&quot;</td><td>&quot;AL&quot;</td><td>36003</td><td>&quot;&quot;</td><td>1</td><td>true</td><td>&quot;R&quot;</td><td>4</td><td>3</td><td>1001</td><td>10010211002035</td><td>&quot;8944ec2845bffff&quot;</td><td>32.450218</td><td>-86.744323</td><td>12312024</td></tr><tr><td>6945950</td><td>130403</td><td>&quot;T-Mobile US&quot;</td><td>1010579069</td><td>71</td><td>0</td><td>0</td><td>1</td><td>&quot;X&quot;</td><td>&quot;AL&quot;</td><td>1.0010e13</td><td>&quot;8844e891d5fffff&quot;</td><td>&quot;1658 COUNTY ROAD 69&quot;</td><td>&quot;PRATTVILLE&quot;</td><td>&quot;AL&quot;</td><td>36067</td><td>&quot;8201&quot;</td><td>1</td><td>true</td><td>&quot;R&quot;</td><td>1</td><td>2</td><td>1001</td><td>10010210003017</td><td>&quot;8944e891d47ffff&quot;</td><td>32.672991</td><td>-86.697345</td><td>12312024</td></tr><tr><td>29779642</td><td>420017</td><td>&quot;Central Access&quot;</td><td>1010579069</td><td>50</td><td>1000</td><td>1000</td><td>1</td><td>&quot;X&quot;</td><td>&quot;AL&quot;</td><td>1.0010e13</td><td>&quot;8844e891d5fffff&quot;</td><td>&quot;1658 COUNTY ROAD 69&quot;</td><td>&quot;PRATTVILLE&quot;</td><td>&quot;AL&quot;</td><td>36067</td><td>&quot;8201&quot;</td><td>1</td><td>true</td><td>&quot;R&quot;</td><td>1</td><td>2</td><td>1001</td><td>10010210003017</td><td>&quot;8944e891d47ffff&quot;</td><td>32.672991</td><td>-86.697345</td><td>12312024</td></tr><tr><td>1857952</td><td>130077</td><td>&quot;AT&amp;T Inc&quot;</td><td>1010579069</td><td>10</td><td>10</td><td>1</td><td>1</td><td>&quot;X&quot;</td><td>&quot;AL&quot;</td><td>1.0010e13</td><td>&quot;8844e891d5fffff&quot;</td><td>&quot;1658 COUNTY ROAD 69&quot;</td><td>&quot;PRATTVILLE&quot;</td><td>&quot;AL&quot;</td><td>36067</td><td>&quot;8201&quot;</td><td>1</td><td>true</td><td>&quot;R&quot;</td><td>1</td><td>2</td><td>1001</td><td>10010210003017</td><td>&quot;8944e891d47ffff&quot;</td><td>32.672991</td><td>-86.697345</td><td>12312024</td></tr><tr><td>&hellip;</td><td>&hellip;</td><td>&hellip;</td><td>&hellip;</td><td>&hellip;</td><td>&hellip;</td><td>&hellip;</td><td>&hellip;</td><td>&hellip;</td><td>&hellip;</td><td>&hellip;</td><td>&hellip;</td><td>&hellip;</td><td>&hellip;</td><td>&hellip;</td><td>&hellip;</td><td>&hellip;</td><td>&hellip;</td><td>&hellip;</td><td>&hellip;</td><td>&hellip;</td><td>&hellip;</td><td>&hellip;</td><td>&hellip;</td><td>&hellip;</td><td>&hellip;</td><td>&hellip;</td><td>&hellip;</td></tr><tr><td>4948105</td><td>131310</td><td>&quot;TDS Telecom&quot;</td><td>1373618130</td><td>10</td><td>10</td><td>1</td><td>1</td><td>&quot;X&quot;</td><td>&quot;AL&quot;</td><td>1.1340e13</td><td>&quot;8844e90451fffff&quot;</td><td>&quot;1207 COUNTY ROAD 3630&quot;</td><td>&quot;NAUVOO&quot;</td><td>&quot;AL&quot;</td><td>35578</td><td>&quot;7118&quot;</td><td>1</td><td>true</td><td>&quot;R&quot;</td><td>1</td><td>2</td><td>1133</td><td>11339659003062</td><td>&quot;8944e90450fffff&quot;</td><td>34.006891</td><td>-87.508379</td><td>12312024</td></tr><tr><td>6945950</td><td>130403</td><td>&quot;T-Mobile US&quot;</td><td>1373618148</td><td>71</td><td>0</td><td>0</td><td>1</td><td>&quot;X&quot;</td><td>&quot;AL&quot;</td><td>1.1340e13</td><td>&quot;8844e90443fffff&quot;</td><td>&quot;16 COUNTY ROAD 3630&quot;</td><td>&quot;NAUVOO&quot;</td><td>&quot;AL&quot;</td><td>35578</td><td>&quot;&quot;</td><td>1</td><td>true</td><td>&quot;R&quot;</td><td>1</td><td>3</td><td>1133</td><td>11339659003068</td><td>&quot;8944e904427ffff&quot;</td><td>33.997858</td><td>-87.497978</td><td>12312024</td></tr><tr><td>4948105</td><td>131310</td><td>&quot;TDS Telecom&quot;</td><td>1373618148</td><td>10</td><td>50</td><td>10</td><td>1</td><td>&quot;X&quot;</td><td>&quot;AL&quot;</td><td>1.1340e13</td><td>&quot;8844e90443fffff&quot;</td><td>&quot;16 COUNTY ROAD 3630&quot;</td><td>&quot;NAUVOO&quot;</td><td>&quot;AL&quot;</td><td>35578</td><td>&quot;&quot;</td><td>1</td><td>true</td><td>&quot;R&quot;</td><td>1</td><td>3</td><td>1133</td><td>11339659003068</td><td>&quot;8944e904427ffff&quot;</td><td>33.997858</td><td>-87.497978</td><td>12312024</td></tr><tr><td>6945950</td><td>130403</td><td>&quot;T-Mobile US&quot;</td><td>1373618149</td><td>71</td><td>0</td><td>0</td><td>1</td><td>&quot;X&quot;</td><td>&quot;AL&quot;</td><td>1.1340e13</td><td>&quot;8844e90455fffff&quot;</td><td>&quot;1920 COUNTY ROAD 3630&quot;</td><td>&quot;NAUVOO&quot;</td><td>&quot;AL&quot;</td><td>35578</td><td>&quot;&quot;</td><td>1</td><td>true</td><td>&quot;R&quot;</td><td>1</td><td>3</td><td>1133</td><td>11339659003068</td><td>&quot;8944e904553ffff&quot;</td><td>33.998481</td><td>-87.498596</td><td>12312024</td></tr><tr><td>4948105</td><td>131310</td><td>&quot;TDS Telecom&quot;</td><td>1373618149</td><td>10</td><td>50</td><td>10</td><td>1</td><td>&quot;X&quot;</td><td>&quot;AL&quot;</td><td>1.1340e13</td><td>&quot;8844e90455fffff&quot;</td><td>&quot;1920 COUNTY ROAD 3630&quot;</td><td>&quot;NAUVOO&quot;</td><td>&quot;AL&quot;</td><td>35578</td><td>&quot;&quot;</td><td>1</td><td>true</td><td>&quot;R&quot;</td><td>1</td><td>3</td><td>1133</td><td>11339659003068</td><td>&quot;8944e904553ffff&quot;</td><td>33.998481</td><td>-87.498596</td><td>12312024</td></tr></tbody></table></div>"
      ],
      "text/plain": [
       "shape: (5_759_597, 28)\n",
       "┌──────────┬────────────┬───────────┬───────────┬───┬───────────┬───────────┬───────────┬──────────┐\n",
       "│ frn      ┆ provider_i ┆ brand_nam ┆ location_ ┆ … ┆ h3_9      ┆ latitude  ┆ longitude ┆ fcc_rel  │\n",
       "│ ---      ┆ d          ┆ e         ┆ id        ┆   ┆ ---       ┆ ---       ┆ ---       ┆ ---      │\n",
       "│ i32      ┆ ---        ┆ ---       ┆ ---       ┆   ┆ str       ┆ f64       ┆ f64       ┆ i64      │\n",
       "│          ┆ i32        ┆ str       ┆ i32       ┆   ┆           ┆           ┆           ┆          │\n",
       "╞══════════╪════════════╪═══════════╪═══════════╪═══╪═══════════╪═══════════╪═══════════╪══════════╡\n",
       "│ 6945950  ┆ 130403     ┆ T-Mobile  ┆ 101057906 ┆ … ┆ 8944ec284 ┆ 32.450218 ┆ -86.74432 ┆ 12312024 │\n",
       "│          ┆            ┆ US        ┆ 8         ┆   ┆ 5bffff    ┆           ┆ 3         ┆          │\n",
       "│ 29779642 ┆ 420017     ┆ Central   ┆ 101057906 ┆ … ┆ 8944ec284 ┆ 32.450218 ┆ -86.74432 ┆ 12312024 │\n",
       "│          ┆            ┆ Access    ┆ 8         ┆   ┆ 5bffff    ┆           ┆ 3         ┆          │\n",
       "│ 6945950  ┆ 130403     ┆ T-Mobile  ┆ 101057906 ┆ … ┆ 8944e891d ┆ 32.672991 ┆ -86.69734 ┆ 12312024 │\n",
       "│          ┆            ┆ US        ┆ 9         ┆   ┆ 47ffff    ┆           ┆ 5         ┆          │\n",
       "│ 29779642 ┆ 420017     ┆ Central   ┆ 101057906 ┆ … ┆ 8944e891d ┆ 32.672991 ┆ -86.69734 ┆ 12312024 │\n",
       "│          ┆            ┆ Access    ┆ 9         ┆   ┆ 47ffff    ┆           ┆ 5         ┆          │\n",
       "│ 1857952  ┆ 130077     ┆ AT&T Inc  ┆ 101057906 ┆ … ┆ 8944e891d ┆ 32.672991 ┆ -86.69734 ┆ 12312024 │\n",
       "│          ┆            ┆           ┆ 9         ┆   ┆ 47ffff    ┆           ┆ 5         ┆          │\n",
       "│ …        ┆ …          ┆ …         ┆ …         ┆ … ┆ …         ┆ …         ┆ …         ┆ …        │\n",
       "│ 4948105  ┆ 131310     ┆ TDS       ┆ 137361813 ┆ … ┆ 8944e9045 ┆ 34.006891 ┆ -87.50837 ┆ 12312024 │\n",
       "│          ┆            ┆ Telecom   ┆ 0         ┆   ┆ 0fffff    ┆           ┆ 9         ┆          │\n",
       "│ 6945950  ┆ 130403     ┆ T-Mobile  ┆ 137361814 ┆ … ┆ 8944e9044 ┆ 33.997858 ┆ -87.49797 ┆ 12312024 │\n",
       "│          ┆            ┆ US        ┆ 8         ┆   ┆ 27ffff    ┆           ┆ 8         ┆          │\n",
       "│ 4948105  ┆ 131310     ┆ TDS       ┆ 137361814 ┆ … ┆ 8944e9044 ┆ 33.997858 ┆ -87.49797 ┆ 12312024 │\n",
       "│          ┆            ┆ Telecom   ┆ 8         ┆   ┆ 27ffff    ┆           ┆ 8         ┆          │\n",
       "│ 6945950  ┆ 130403     ┆ T-Mobile  ┆ 137361814 ┆ … ┆ 8944e9045 ┆ 33.998481 ┆ -87.49859 ┆ 12312024 │\n",
       "│          ┆            ┆ US        ┆ 9         ┆   ┆ 53ffff    ┆           ┆ 6         ┆          │\n",
       "│ 4948105  ┆ 131310     ┆ TDS       ┆ 137361814 ┆ … ┆ 8944e9045 ┆ 33.998481 ┆ -87.49859 ┆ 12312024 │\n",
       "│          ┆            ┆ Telecom   ┆ 9         ┆   ┆ 53ffff    ┆           ┆ 6         ┆          │\n",
       "└──────────┴────────────┴───────────┴───────────┴───┴───────────┴───────────┴───────────┴──────────┘"
      ]
     },
     "execution_count": 11,
     "metadata": {},
     "output_type": "execute_result"
    }
   ],
   "source": [
    "new_df = merge_dataframes(stata_df,csv_df)\n",
    "new_df"
   ]
  }
 ],
 "metadata": {
  "kernelspec": {
   "display_name": ".venv",
   "language": "python",
   "name": "python3"
  },
  "language_info": {
   "codemirror_mode": {
    "name": "ipython",
    "version": 3
   },
   "file_extension": ".py",
   "mimetype": "text/x-python",
   "name": "python",
   "nbconvert_exporter": "python",
   "pygments_lexer": "ipython3",
   "version": "3.13.3"
  }
 },
 "nbformat": 4,
 "nbformat_minor": 5
}
