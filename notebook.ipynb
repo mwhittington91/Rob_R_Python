{
 "cells": [
  {
   "cell_type": "code",
   "execution_count": 2,
   "id": "d99629c3",
   "metadata": {},
   "outputs": [],
   "source": [
    "import polars as pl\n",
    "import pandas as pd"
   ]
  },
  {
   "cell_type": "code",
   "execution_count": 3,
   "id": "7398697b",
   "metadata": {},
   "outputs": [],
   "source": [
    "def load_data(path:str) -> pl.DataFrame:\n",
    "    if path.endswith('.csv'):\n",
    "        return pl.read_csv(path)     \n",
    "    elif path.endswith('.dta'):\n",
    "        return pl.from_pandas(pd.read_stata(path))"
   ]
  },
  {
   "cell_type": "code",
   "execution_count": null,
   "id": "c3c4f97c",
   "metadata": {},
   "outputs": [
    {
     "data": {
      "text/plain": [
       "['frn',\n",
       " 'provider_id',\n",
       " 'brand_name',\n",
       " 'location_id',\n",
       " 'technology',\n",
       " 'max_advertised_download_speed',\n",
       " 'max_advertised_upload_speed',\n",
       " 'low_latency',\n",
       " 'business_residential_code',\n",
       " 'state_usps',\n",
       " 'block_geoid',\n",
       " 'h3_res8_id']"
      ]
     },
     "execution_count": 4,
     "metadata": {},
     "output_type": "execute_result"
    }
   ],
   "source": [
    "stata_df = load_data('data/BDC Update 07.12.23 AL Dec 2022.dta')\n",
    "stata_df.columns"
   ]
  },
  {
   "cell_type": "code",
   "execution_count": 12,
   "id": "6a265613",
   "metadata": {},
   "outputs": [
    {
     "data": {
      "text/html": [
       "<div><style>\n",
       ".dataframe > thead > tr,\n",
       ".dataframe > tbody > tr {\n",
       "  text-align: right;\n",
       "  white-space: pre-wrap;\n",
       "}\n",
       "</style>\n",
       "<small>shape: (6_013_527, 12)</small><table border=\"1\" class=\"dataframe\"><thead><tr><th>frn</th><th>provider_id</th><th>brand_name</th><th>location_id</th><th>technology</th><th>max_advertised_download_speed</th><th>max_advertised_upload_speed</th><th>low_latency</th><th>business_residential_code</th><th>state_usps</th><th>block_geoid</th><th>h3_res8_id</th></tr><tr><td>i32</td><td>i32</td><td>str</td><td>i32</td><td>i8</td><td>i32</td><td>i32</td><td>i8</td><td>str</td><td>str</td><td>f64</td><td>str</td></tr></thead><tbody><tr><td>31304405</td><td>470022</td><td>&quot;Brightspeed&quot;</td><td>1075113135</td><td>10</td><td>40</td><td>3</td><td>1</td><td>&quot;X&quot;</td><td>&quot;AL&quot;</td><td>1.0611e13</td><td>&quot;8844e18cc9fffff&quot;</td></tr><tr><td>25646373</td><td>130235</td><td>&quot;Charter Communications Inc&quot;</td><td>1070429187</td><td>40</td><td>1000</td><td>35</td><td>1</td><td>&quot;R&quot;</td><td>&quot;AL&quot;</td><td>1.0480e13</td><td>&quot;8844ec343bfffff&quot;</td></tr><tr><td>19079334</td><td>410184</td><td>&quot;Conexus Communications Inc&quot;</td><td>1038095487</td><td>70</td><td>30</td><td>5</td><td>1</td><td>&quot;X&quot;</td><td>&quot;AL&quot;</td><td>1.0991e13</td><td>&quot;8844522443fffff&quot;</td></tr><tr><td>6945950</td><td>130403</td><td>&quot;T-Mobile US&quot;</td><td>1326028119</td><td>71</td><td>0</td><td>0</td><td>1</td><td>&quot;X&quot;</td><td>&quot;AL&quot;</td><td>1.0730e13</td><td>&quot;8844e8ae8dfffff&quot;</td></tr><tr><td>4036778</td><td>130804</td><td>&quot;Mediacom Southeast LLC&quot;</td><td>1342098793</td><td>40</td><td>1000</td><td>50</td><td>1</td><td>&quot;X&quot;</td><td>&quot;AL&quot;</td><td>1.0970e13</td><td>&quot;8844501033fffff&quot;</td></tr><tr><td>&hellip;</td><td>&hellip;</td><td>&hellip;</td><td>&hellip;</td><td>&hellip;</td><td>&hellip;</td><td>&hellip;</td><td>&hellip;</td><td>&hellip;</td><td>&hellip;</td><td>&hellip;</td><td>&hellip;</td></tr><tr><td>19079334</td><td>410184</td><td>&quot;Conexus Communications Inc&quot;</td><td>1289473323</td><td>70</td><td>30</td><td>5</td><td>1</td><td>&quot;X&quot;</td><td>&quot;AL&quot;</td><td>1.0540e13</td><td>&quot;884452ac8bfffff&quot;</td></tr><tr><td>5000716</td><td>131038</td><td>&quot;Pine Belt Broadcasting LLC&quot;</td><td>1286268013</td><td>50</td><td>1000</td><td>1000</td><td>1</td><td>&quot;X&quot;</td><td>&quot;AL&quot;</td><td>1.1057e13</td><td>&quot;8844edcd0bfffff&quot;</td></tr><tr><td>4036778</td><td>130804</td><td>&quot;Mediacom Southeast LLC&quot;</td><td>1342129540</td><td>40</td><td>1000</td><td>50</td><td>1</td><td>&quot;X&quot;</td><td>&quot;AL&quot;</td><td>1.0970e13</td><td>&quot;8844501559fffff&quot;</td></tr><tr><td>4948105</td><td>131310</td><td>&quot;TDS Telecom&quot;</td><td>1118723646</td><td>10</td><td>50</td><td>10</td><td>1</td><td>&quot;X&quot;</td><td>&quot;AL&quot;</td><td>1.0200e13</td><td>&quot;8844eb48c3fffff&quot;</td></tr><tr><td>25646373</td><td>130235</td><td>&quot;Charter Communications Inc&quot;</td><td>1325937785</td><td>40</td><td>1000</td><td>35</td><td>1</td><td>&quot;R&quot;</td><td>&quot;AL&quot;</td><td>1.0730e13</td><td>&quot;8844e820d9fffff&quot;</td></tr></tbody></table></div>"
      ],
      "text/plain": [
       "shape: (6_013_527, 12)\n",
       "┌──────────┬───────────┬───────────┬───────────┬───┬───────────┬───────────┬───────────┬───────────┐\n",
       "│ frn      ┆ provider_ ┆ brand_nam ┆ location_ ┆ … ┆ business_ ┆ state_usp ┆ block_geo ┆ h3_res8_i │\n",
       "│ ---      ┆ id        ┆ e         ┆ id        ┆   ┆ residenti ┆ s         ┆ id        ┆ d         │\n",
       "│ i32      ┆ ---       ┆ ---       ┆ ---       ┆   ┆ al_code   ┆ ---       ┆ ---       ┆ ---       │\n",
       "│          ┆ i32       ┆ str       ┆ i32       ┆   ┆ ---       ┆ str       ┆ f64       ┆ str       │\n",
       "│          ┆           ┆           ┆           ┆   ┆ str       ┆           ┆           ┆           │\n",
       "╞══════════╪═══════════╪═══════════╪═══════════╪═══╪═══════════╪═══════════╪═══════════╪═══════════╡\n",
       "│ 31304405 ┆ 470022    ┆ Brightspe ┆ 107511313 ┆ … ┆ X         ┆ AL        ┆ 1.0611e13 ┆ 8844e18cc │\n",
       "│          ┆           ┆ ed        ┆ 5         ┆   ┆           ┆           ┆           ┆ 9fffff    │\n",
       "│ 25646373 ┆ 130235    ┆ Charter   ┆ 107042918 ┆ … ┆ R         ┆ AL        ┆ 1.0480e13 ┆ 8844ec343 │\n",
       "│          ┆           ┆ Communica ┆ 7         ┆   ┆           ┆           ┆           ┆ bfffff    │\n",
       "│          ┆           ┆ tions Inc ┆           ┆   ┆           ┆           ┆           ┆           │\n",
       "│ 19079334 ┆ 410184    ┆ Conexus   ┆ 103809548 ┆ … ┆ X         ┆ AL        ┆ 1.0991e13 ┆ 884452244 │\n",
       "│          ┆           ┆ Communica ┆ 7         ┆   ┆           ┆           ┆           ┆ 3fffff    │\n",
       "│          ┆           ┆ tions Inc ┆           ┆   ┆           ┆           ┆           ┆           │\n",
       "│ 6945950  ┆ 130403    ┆ T-Mobile  ┆ 132602811 ┆ … ┆ X         ┆ AL        ┆ 1.0730e13 ┆ 8844e8ae8 │\n",
       "│          ┆           ┆ US        ┆ 9         ┆   ┆           ┆           ┆           ┆ dfffff    │\n",
       "│ 4036778  ┆ 130804    ┆ Mediacom  ┆ 134209879 ┆ … ┆ X         ┆ AL        ┆ 1.0970e13 ┆ 884450103 │\n",
       "│          ┆           ┆ Southeast ┆ 3         ┆   ┆           ┆           ┆           ┆ 3fffff    │\n",
       "│          ┆           ┆ LLC       ┆           ┆   ┆           ┆           ┆           ┆           │\n",
       "│ …        ┆ …         ┆ …         ┆ …         ┆ … ┆ …         ┆ …         ┆ …         ┆ …         │\n",
       "│ 19079334 ┆ 410184    ┆ Conexus   ┆ 128947332 ┆ … ┆ X         ┆ AL        ┆ 1.0540e13 ┆ 884452ac8 │\n",
       "│          ┆           ┆ Communica ┆ 3         ┆   ┆           ┆           ┆           ┆ bfffff    │\n",
       "│          ┆           ┆ tions Inc ┆           ┆   ┆           ┆           ┆           ┆           │\n",
       "│ 5000716  ┆ 131038    ┆ Pine Belt ┆ 128626801 ┆ … ┆ X         ┆ AL        ┆ 1.1057e13 ┆ 8844edcd0 │\n",
       "│          ┆           ┆ Broadcast ┆ 3         ┆   ┆           ┆           ┆           ┆ bfffff    │\n",
       "│          ┆           ┆ ing LLC   ┆           ┆   ┆           ┆           ┆           ┆           │\n",
       "│ 4036778  ┆ 130804    ┆ Mediacom  ┆ 134212954 ┆ … ┆ X         ┆ AL        ┆ 1.0970e13 ┆ 884450155 │\n",
       "│          ┆           ┆ Southeast ┆ 0         ┆   ┆           ┆           ┆           ┆ 9fffff    │\n",
       "│          ┆           ┆ LLC       ┆           ┆   ┆           ┆           ┆           ┆           │\n",
       "│ 4948105  ┆ 131310    ┆ TDS       ┆ 111872364 ┆ … ┆ X         ┆ AL        ┆ 1.0200e13 ┆ 8844eb48c │\n",
       "│          ┆           ┆ Telecom   ┆ 6         ┆   ┆           ┆           ┆           ┆ 3fffff    │\n",
       "│ 25646373 ┆ 130235    ┆ Charter   ┆ 132593778 ┆ … ┆ R         ┆ AL        ┆ 1.0730e13 ┆ 8844e820d │\n",
       "│          ┆           ┆ Communica ┆ 5         ┆   ┆           ┆           ┆           ┆ 9fffff    │\n",
       "│          ┆           ┆ tions Inc ┆           ┆   ┆           ┆           ┆           ┆           │\n",
       "└──────────┴───────────┴───────────┴───────────┴───┴───────────┴───────────┴───────────┴───────────┘"
      ]
     },
     "execution_count": 12,
     "metadata": {},
     "output_type": "execute_result"
    }
   ],
   "source": [
    "stata_df.unique()"
   ]
  },
  {
   "cell_type": "code",
   "execution_count": 13,
   "id": "aacddbef",
   "metadata": {},
   "outputs": [
    {
     "data": {
      "text/plain": [
       "(6013527, 12)"
      ]
     },
     "execution_count": 13,
     "metadata": {},
     "output_type": "execute_result"
    }
   ],
   "source": [
    "stata_df.shape"
   ]
  },
  {
   "cell_type": "code",
   "execution_count": 6,
   "id": "0ef42904",
   "metadata": {},
   "outputs": [
    {
     "data": {
      "text/plain": [
       "['location_id',\n",
       " 'address_primary',\n",
       " 'city',\n",
       " 'state',\n",
       " 'zip',\n",
       " 'zip_suffix',\n",
       " 'unit_count',\n",
       " 'bsl_flag',\n",
       " 'building_type_code',\n",
       " 'land_use_code',\n",
       " 'address_confidence_code',\n",
       " 'county_geoid',\n",
       " 'block_geoid',\n",
       " 'h3_9',\n",
       " 'latitude',\n",
       " 'longitude',\n",
       " 'fcc_rel']"
      ]
     },
     "execution_count": 6,
     "metadata": {},
     "output_type": "execute_result"
    }
   ],
   "source": [
    "csv_df = load_data('data/FCC_Active_NoBSL_12312024_rel_6_test.csv')\n",
    "csv_df.columns"
   ]
  },
  {
   "cell_type": "code",
   "execution_count": 7,
   "id": "2b6bbb6a",
   "metadata": {},
   "outputs": [
    {
     "data": {
      "text/plain": [
       "(14, 17)"
      ]
     },
     "execution_count": 7,
     "metadata": {},
     "output_type": "execute_result"
    }
   ],
   "source": [
    "csv_df.shape"
   ]
  },
  {
   "cell_type": "code",
   "execution_count": null,
   "id": "d695eac9",
   "metadata": {},
   "outputs": [],
   "source": [
    "def merge_dataframes(df1: pl.DataFrame, df2: pl.DataFrame) -> pl.DataFrame:\n",
    "    return df1.join(df2, on=[\"location_id\"], how=\"inner\")"
   ]
  },
  {
   "cell_type": "code",
   "execution_count": null,
   "id": "a84c1697",
   "metadata": {},
   "outputs": [
    {
     "data": {
      "text/plain": [
       "(0, 28)"
      ]
     },
     "execution_count": 11,
     "metadata": {},
     "output_type": "execute_result"
    }
   ],
   "source": [
    "new_df = merge_dataframes(stata_df,csv_df)\n",
    "new_df"
   ]
  }
 ],
 "metadata": {
  "kernelspec": {
   "display_name": ".venv",
   "language": "python",
   "name": "python3"
  },
  "language_info": {
   "codemirror_mode": {
    "name": "ipython",
    "version": 3
   },
   "file_extension": ".py",
   "mimetype": "text/x-python",
   "name": "python",
   "nbconvert_exporter": "python",
   "pygments_lexer": "ipython3",
   "version": "3.13.1"
  }
 },
 "nbformat": 4,
 "nbformat_minor": 5
}
